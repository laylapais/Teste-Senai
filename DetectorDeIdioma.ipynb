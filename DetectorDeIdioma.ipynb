{
  "nbformat": 4,
  "nbformat_minor": 0,
  "metadata": {
    "colab": {
      "provenance": [],
      "authorship_tag": "ABX9TyOrUUvt5+/bKk34/JFtuQyJ",
      "include_colab_link": true
    },
    "kernelspec": {
      "name": "python3",
      "display_name": "Python 3"
    },
    "language_info": {
      "name": "python"
    }
  },
  "cells": [
    {
      "cell_type": "markdown",
      "metadata": {
        "id": "view-in-github",
        "colab_type": "text"
      },
      "source": [
        "<a href=\"https://colab.research.google.com/github/laylapais/Teste-Senai/blob/main/DetectorDeIdioma.ipynb\" target=\"_parent\"><img src=\"https://colab.research.google.com/assets/colab-badge.svg\" alt=\"Open In Colab\"/></a>"
      ]
    },
    {
      "cell_type": "code",
      "execution_count": 14,
      "metadata": {
        "colab": {
          "base_uri": "https://localhost:8080/"
        },
        "id": "cR6fjykIDC70",
        "outputId": "abfed6ca-8fe4-48bc-a923-396136ed04de"
      },
      "outputs": [
        {
          "output_type": "stream",
          "name": "stdout",
          "text": [
            "Requirement already satisfied: scikit-learn in /usr/local/lib/python3.10/dist-packages (1.3.2)\n",
            "Requirement already satisfied: pandas in /usr/local/lib/python3.10/dist-packages (2.1.4)\n",
            "Requirement already satisfied: numpy<2.0,>=1.17.3 in /usr/local/lib/python3.10/dist-packages (from scikit-learn) (1.26.4)\n",
            "Requirement already satisfied: scipy>=1.5.0 in /usr/local/lib/python3.10/dist-packages (from scikit-learn) (1.13.1)\n",
            "Requirement already satisfied: joblib>=1.1.1 in /usr/local/lib/python3.10/dist-packages (from scikit-learn) (1.4.2)\n",
            "Requirement already satisfied: threadpoolctl>=2.0.0 in /usr/local/lib/python3.10/dist-packages (from scikit-learn) (3.5.0)\n",
            "Requirement already satisfied: python-dateutil>=2.8.2 in /usr/local/lib/python3.10/dist-packages (from pandas) (2.8.2)\n",
            "Requirement already satisfied: pytz>=2020.1 in /usr/local/lib/python3.10/dist-packages (from pandas) (2024.1)\n",
            "Requirement already satisfied: tzdata>=2022.1 in /usr/local/lib/python3.10/dist-packages (from pandas) (2024.1)\n",
            "Requirement already satisfied: six>=1.5 in /usr/local/lib/python3.10/dist-packages (from python-dateutil>=2.8.2->pandas) (1.16.0)\n",
            "Acurácia: 0.00%\n"
          ]
        }
      ],
      "source": [
        "# Instalação das bibliotecas\n",
        "!pip install scikit-learn pandas\n",
        "\n",
        "import pandas as pd\n",
        "from sklearn.feature_extraction.text import TfidfVectorizer\n",
        "from sklearn.model_selection import train_test_split\n",
        "from sklearn.naive_bayes import MultinomialNB\n",
        "from sklearn.pipeline import make_pipeline\n",
        "from sklearn.metrics import accuracy_score\n",
        "import joblib\n",
        "\n",
        "# Dados de exemplo\n",
        "data = {\n",
        "    'frase': [\n",
        "        'eu gosto de café', 'o céu é azul', 'como você está?', 'Olá', 'Olá mundo!', 'Hoje está uma dia tão lindo',  # Português\n",
        "        'I like coffee', 'the sky is blue', 'how are you?',  'Hello', 'Hello world!', 'today is such a beautiful day', # Inglês\n",
        "        '我喜欢咖啡', '天空是蓝色的', '你好吗？', '你好' , '你好世界', '今天真是美好的一天'          # Mandarim\n",
        "    ],\n",
        "    'idioma': [\n",
        "        'pt', 'pt', 'pt', 'pt', 'pt', 'pt',\n",
        "        'en', 'en', 'en', 'en', 'en', 'en',\n",
        "        'zh', 'zh', 'zh', 'zh', 'zh', 'zh'\n",
        "    ]\n",
        "}\n",
        "\n",
        "# Carregar dados em um DataFrame\n",
        "df = pd.DataFrame(data)\n",
        "\n",
        "# Vetorização de texto e divisão dos dados\n",
        "X = df['frase']\n",
        "y = df['idioma']\n",
        "X_train, X_test, y_train, y_test = train_test_split(X, y, test_size=0.2, random_state=42)\n",
        "\n",
        "# pipeline com TfidfVectorizer e MultinomialNB\n",
        "model = make_pipeline(TfidfVectorizer(), MultinomialNB())\n",
        "\n",
        "# Treinamento do modelo\n",
        "model.fit(X_train, y_train)\n",
        "\n",
        "# Fazer previsões e avaliar o modelo\n",
        "y_pred = model.predict(X_test)\n",
        "print(f'Acurácia: {accuracy_score(y_test, y_pred) * 100:.2f}%')\n",
        "\n",
        "\n",
        "\n"
      ]
    },
    {
      "cell_type": "code",
      "source": [
        "# Testa com uma nova frase\n",
        "def detectar_idioma(frase):\n",
        "    return model.predict([frase])[0]\n",
        "\n",
        "\n",
        "frase_teste = \"Olá, tudo bem?\"\n",
        "print(f\"O idioma é: {detectar_idioma(frase_teste)}\")\n",
        "\n",
        "joblib.dump(model, 'language_detector_model.pkl')"
      ],
      "metadata": {
        "colab": {
          "base_uri": "https://localhost:8080/"
        },
        "id": "Sc5aLXNLFo2a",
        "outputId": "2c1c8e31-0963-4178-ba6f-62943e11bb43"
      },
      "execution_count": 16,
      "outputs": [
        {
          "output_type": "stream",
          "name": "stdout",
          "text": [
            "O idioma é: pt\n"
          ]
        },
        {
          "output_type": "execute_result",
          "data": {
            "text/plain": [
              "['language_detector_model.pkl']"
            ]
          },
          "metadata": {},
          "execution_count": 16
        }
      ]
    },
    {
      "cell_type": "code",
      "source": [
        "!git clone https://github.com/laylapais/Teste-Senai.git"
      ],
      "metadata": {
        "colab": {
          "base_uri": "https://localhost:8080/"
        },
        "id": "73Pv9W3ZP5a9",
        "outputId": "79f2aae3-5ce8-4739-bd52-683daabd04d3"
      },
      "execution_count": 17,
      "outputs": [
        {
          "output_type": "stream",
          "name": "stdout",
          "text": [
            "Cloning into 'Teste-Senai'...\n",
            "remote: Enumerating objects: 3, done.\u001b[K\n",
            "remote: Counting objects: 100% (3/3), done.\u001b[K\n",
            "remote: Compressing objects: 100% (2/2), done.\u001b[K\n",
            "remote: Total 3 (delta 0), reused 0 (delta 0), pack-reused 0\u001b[K\n",
            "Receiving objects: 100% (3/3), done.\n"
          ]
        }
      ]
    },
    {
      "cell_type": "code",
      "source": [
        "%cd Teste-Senai"
      ],
      "metadata": {
        "colab": {
          "base_uri": "https://localhost:8080/"
        },
        "id": "NJa4lbzYQ3Gf",
        "outputId": "d97d4090-6fff-40fa-fd32-363f1dd978b0"
      },
      "execution_count": 18,
      "outputs": [
        {
          "output_type": "stream",
          "name": "stdout",
          "text": [
            "/content/Teste-Senai\n"
          ]
        }
      ]
    }
  ]
}