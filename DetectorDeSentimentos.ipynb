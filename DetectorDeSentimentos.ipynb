{
  "cells": [
    {
      "cell_type": "code",
      "execution_count": null,
      "metadata": {
        "id": "rPttsc190cM7"
      },
      "outputs": [],
      "source": [
        "import pandas as pd\n",
        "from sklearn.feature_extraction.text import TfidfVectorizer\n",
        "from sklearn.model_selection import train_test_split\n",
        "from sklearn.naive_bayes import MultinomialNB\n",
        "from sklearn.metrics import classification_report, accuracy_score\n",
        "\n",
        "# Dados\n",
        "data = {\n",
        "    'frase': [\n",
        "        'estou muito feliz hoje!', 'que dia maravilhoso!', 'estou encantado com os resultados',\n",
        "        'me sinto alegre e contente', 'estou muito satisfeito com a minha vida',\n",
        "        'hoje é um dia excelente!', 'sinto-me radiante e feliz.', 'este é o melhor dia de todos!',\n",
        "        'a vida é bela e cheia de alegria.', 'estou tão feliz com as boas notícias.',\n",
        "        'recebi uma surpresa maravilhosa hoje e estou contente',\n",
        "        'adoro a sua companhia!',\n",
        "        'estou radiante com as boas novas que recebi',\n",
        "        'sinto uma alegria imensa por tudo que conquistei',\n",
        "        'a felicidade tomou conta de mim ao ver meu time ganhar',\n",
        "        'nada pode estragar meu sorriso hoje!',\n",
        "        'recebi um presente incrível e estou muito contente',\n",
        "        'a vida é maravilhosa e estou muito feliz com isso',\n",
        "        'sinto uma felicidade profunda ao estar com minha família',\n",
        "        'o dia está perfeito e isso me deixa muito alegre',\n",
        "        'estou me sentindo tão triste e deprimido', 'Ela está muito desapontada.',\n",
        "        'ela está chorando porque está muito triste', 'eu me sinto sozinho e triste',\n",
        "        'ele está muito mal com isso, esta para baixo/cabisbaixo', 'meu pé de tomate morreu hoje, me sinto desapontada',\n",
        "        'estou profundamente triste.',\n",
        "        'hoje é um dia muito difícil.', 'não consigo parar de chorar', 'tudo parece sem esperança',\n",
        "        'não gostei da viajem, não deveria ter vindo', 'Estou para baixo ',\n",
        "        'a dor parece não ter fim! me sinto tão triste',\n",
        "        'estou mal após receber essa notícia',\n",
        "        'a tristeza me acompanha porque eu  perdi algo importante',\n",
        "        'a minha novela acabou e estou com a mente vazía e conturbada',\n",
        "        'sinto uma tristeza profunda por estar longe de quem amo',\n",
        "        'hoje foi um dia difícil e estou muito abatido',\n",
        "        'dias chuvosos são tristes para mim',\n",
        "        'estou desanimado e o peso da tristeza não me deixa.',\n",
        "        'ele está muito bravo com a situação', 'estou furioso com o que aconteceu',\n",
        "        'estou exausto e frustrado com tudo isso.', 'sinto uma raiva intensa.',\n",
        "        'não gosto de você, estou com raiva!', 'não consigo controlar minha raiva',\n",
        "        'estou completamente furioso', 'estou muito bravo com o comportamento dela.',\n",
        "        'A raiva me domina', 'Estou extremamente irritado.', 'estou muito irritada com ele',\n",
        "         'estou furioso porque uma pomba fez suas necessidades no meu cachorro recém lavado',\n",
        "        'a raiva tomou conta de mim após essa discussão, eu sinto um ódio enorme por você!',\n",
        "        'estou extremamente irritada com o comportamento dele, para mim ele morreu!',\n",
        "        'estou zangado porque as coisas não saíram como planejado',\n",
        "        'a raiva me consome quando penso no que ocorreu',\n",
        "        'estou extremamente irritado com a situação no trabalho',\n",
        "        'acabei sofrendo com um imprevisto durante o camiinho e estou chateada',\n",
        "        'estou com raiva e não consigo me controlar',\n",
        "        'estou furioso pois dei o meu melhor e não fui reconhecido '\n",
        "    ],\n",
        "    'emocao': [\n",
        "        'felicidade', 'felicidade', 'felicidade', 'felicidade', 'felicidade',\n",
        "        'felicidade', 'felicidade', 'felicidade', 'felicidade', 'felicidade',\n",
        "        'felicidade','felicidade', 'felicidade', 'felicidade', 'felicidade',\n",
        "        'felicidade', 'felicidade', 'felicidade', 'felicidade', 'felicidade',\n",
        "        'tristeza', 'tristeza', 'tristeza', 'tristeza', 'tristeza',\n",
        "        'tristeza', 'tristeza', 'tristeza', 'tristeza', 'tristeza',\n",
        "        'tristeza', 'tristeza', 'tristeza', 'tristeza', 'tristeza',\n",
        "        'tristeza', 'tristeza', 'tristeza', 'tristeza', 'tristeza',\n",
        "        'raiva', 'raiva', 'raiva', 'raiva', 'raiva',\n",
        "        'raiva', 'raiva', 'raiva', 'raiva', 'raiva',\n",
        "        'raiva', 'raiva', 'raiva', 'raiva', 'raiva',\n",
        "        'raiva', 'raiva', 'raiva', 'raiva', 'raiva'\n",
        "    ]\n",
        "}\n",
        "\n",
        "\n",
        "\n",
        "\n",
        "df = pd.DataFrame(data)\n",
        "\n",
        "# Divisão dos dados em treino e teste\n",
        "X = df['frase']\n",
        "y = df['emocao']\n",
        "\n",
        "X_train, X_test, y_train, y_test = train_test_split(X, y, test_size=0.2, random_state=42)\n",
        "\n",
        "# Transformação do texto em vetores de características\n",
        "vectorizer = TfidfVectorizer()\n",
        "X_train_vec = vectorizer.fit_transform(X_train)\n",
        "X_test_vec = vectorizer.transform(X_test)\n",
        "\n",
        "# Treinamento do modelo\n",
        "model = MultinomialNB()\n",
        "model.fit(X_train_vec, y_train)\n",
        "\n",
        "# Avaliação do modelo\n",
        "y_pred = model.predict(X_test_vec)\n",
        "print(f\"Accuracy: {accuracy_score(y_test, y_pred)}\")\n",
        "print(classification_report(y_test, y_pred))\n",
        "\n",
        "# Função de predição\n",
        "def prever_emocao(frase):\n",
        "    frase_vec = vectorizer.transform([frase])\n",
        "    predicao = model.predict(frase_vec)\n",
        "    return predicao[0]\n",
        "\n",
        "# Exemplo de uso\n",
        "frase_teste = \"estou triste\"\n",
        "print(f\"Emoção prevista: {prever_emocao(frase_teste)}\")\n",
        "\n"
      ]
    },
    {
      "cell_type": "code",
      "execution_count": null,
      "metadata": {
        "colab": {
          "base_uri": "https://localhost:8080/"
        },
        "id": "KZGyHPAixtBZ",
        "outputId": "07d0af78-c64e-4dc3-cd42-f8363c6596bd"
      },
      "outputs": [
        {
          "name": "stdout",
          "output_type": "stream",
          "text": [
            "Emoção prevista: felicidade\n"
          ]
        }
      ],
      "source": [
        "# Função de predição\n",
        "def prever_emocao(frase):\n",
        "    frase_vec = vectorizer.transform([frase])\n",
        "    predicao = model.predict(frase_vec)\n",
        "    return predicao[0]\n",
        "\n",
        "# Exemplo de uso\n",
        "frase_teste = \"Estou feliz\"\n",
        "print(f\"Emoção prevista: {prever_emocao(frase_teste)}\")\n"
      ]
    },
    {
      "cell_type": "code",
      "execution_count": null,
      "metadata": {
        "id": "JwiJQg5wxhJE"
      },
      "outputs": [],
      "source": []
    },
    {
      "cell_type": "code",
      "execution_count": null,
      "metadata": {
        "id": "g-sYhpn_2Mgb"
      },
      "outputs": [],
      "source": []
    }
  ],
  "metadata": {
    "colab": {
      "provenance": []
    },
    "kernelspec": {
      "display_name": "Python 3",
      "name": "python3"
    },
    "language_info": {
      "name": "python"
    }
  },
  "nbformat": 4,
  "nbformat_minor": 0
}
